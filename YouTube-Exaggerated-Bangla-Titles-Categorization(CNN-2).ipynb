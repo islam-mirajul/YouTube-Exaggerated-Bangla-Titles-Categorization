{
  "nbformat": 4,
  "nbformat_minor": 0,
  "metadata": {
    "colab": {
      "name": "Youtube Title prediction(CNN).ipynb",
      "provenance": [],
      "mount_file_id": "1ZRBiNL8EhVN2WXOJozd10QBiAkQ2Cg-x",
      "authorship_tag": "ABX9TyPlK6iBJVCiJ7JIh8tZ+Fh4",
      "include_colab_link": true
    },
    "kernelspec": {
      "name": "python3",
      "display_name": "Python 3"
    }
  },
  "cells": [
    {
      "cell_type": "markdown",
      "metadata": {
        "id": "view-in-github",
        "colab_type": "text"
      },
      "source": [
        "<a href=\"https://colab.research.google.com/github/islam-mirajul/YouTube-Exaggerated-Bangla-Titles-Categorization/blob/main/YouTube-Exaggerated-Bangla-Titles-Categorization(CNN-2).ipynb\" target=\"_parent\"><img src=\"https://colab.research.google.com/assets/colab-badge.svg\" alt=\"Open In Colab\"/></a>"
      ]
    },
    {
      "cell_type": "code",
      "metadata": {
        "id": "83iP73itEDw1"
      },
      "source": [
        "import numpy as np\n",
        "import pandas as pd\n",
        "import pickle\n",
        "from collections import defaultdict\n",
        "import re\n",
        "from bs4 import BeautifulSoup\n",
        "import sys\n",
        "import os\n",
        "os.environ['KERAS_BACKEND']='theano' # Why theano why not\n",
        "from keras.preprocessing.text import Tokenizer\n",
        "from keras.preprocessing.sequence import pad_sequences\n",
        "from keras.utils.np_utils import to_categorical\n",
        "from keras.layers import Embedding\n",
        "from keras.layers import Dense, Input, Flatten\n",
        "from keras.layers import Conv1D, MaxPooling1D, Embedding, Dropout\n",
        "from keras.models import Model\n",
        "from keras.callbacks import ModelCheckpoint\n",
        "import matplotlib.pyplot as plt\n",
        "plt.switch_backend('agg')\n",
        "%matplotlib inline"
      ],
      "execution_count": null,
      "outputs": []
    },
    {
      "cell_type": "code",
      "metadata": {
        "id": "UdFlWKgZEECL"
      },
      "source": [
        "\n",
        "def clean_str(string):\n",
        "    string = re.sub(r\"\\\\\", \"\", string)\n",
        "    string = re.sub(r\"\\'\", \"\", string)\n",
        "    string = re.sub(r\"\\\"\", \"\", string)\n",
        "    return string.strip().lower()"
      ],
      "execution_count": null,
      "outputs": []
    },
    {
      "cell_type": "code",
      "metadata": {
        "id": "VDtlp_qIEI63"
      },
      "source": [
        "MAX_SEQUENCE_LENGTH = 1000\n",
        "MAX_NB_WORDS = 20000\n",
        "EMBEDDING_DIM = 100\n",
        "VALIDATION_SPLIT = 0.2"
      ],
      "execution_count": null,
      "outputs": []
    },
    {
      "cell_type": "code",
      "metadata": {
        "colab": {
          "base_uri": "https://localhost:8080/"
        },
        "id": "bZybag7jEKr8",
        "outputId": "ea08110c-7c7f-428d-bc70-8b4890f65aa2"
      },
      "source": [
        "\n",
        "# reading data\n",
        "df = pd.read_csv('/content/drive/MyDrive/youtube project/youtubeRD-csv.csv')\n",
        "print(df.columns)\n",
        "print('No. of unique classes',len(set(df['Type'])))"
      ],
      "execution_count": null,
      "outputs": [
        {
          "output_type": "stream",
          "text": [
            "Index(['Title', 'Type'], dtype='object')\n",
            "No. of unique classes 2\n"
          ],
          "name": "stdout"
        }
      ]
    },
    {
      "cell_type": "code",
      "metadata": {
        "id": "zgvhX_-qEgCo"
      },
      "source": [
        "macronum=sorted(set(df['Type']))\n",
        "macro_to_id = dict((note, number) for number, note in enumerate(macronum))\n",
        "\n",
        "def fun(i):\n",
        "    return macro_to_id[i]\n",
        "\n",
        "df['Type']=df['Type'].apply(fun)"
      ],
      "execution_count": null,
      "outputs": []
    },
    {
      "cell_type": "code",
      "metadata": {
        "id": "t1UKIZMNEq6E"
      },
      "source": [
        "texts = []\n",
        "labels = []\n",
        "\n",
        "\n",
        "for idx in range(df.Title.shape[0]):\n",
        "    text = BeautifulSoup(df.Title[idx])\n",
        "    texts.append(clean_str(str(text.get_text().encode())))\n",
        "\n",
        "for idx in df['Type']:\n",
        "    labels.append(idx)"
      ],
      "execution_count": null,
      "outputs": []
    },
    {
      "cell_type": "code",
      "metadata": {
        "colab": {
          "base_uri": "https://localhost:8080/"
        },
        "id": "W1idm1ZME2Yk",
        "outputId": "eaf9b152-a1e4-4d48-a020-b3e7d5af15b2"
      },
      "source": [
        "tokenizer = Tokenizer(num_words=MAX_NB_WORDS)\n",
        "tokenizer.fit_on_texts(texts)\n",
        "sequences = tokenizer.texts_to_sequences(texts)\n",
        "\n",
        "word_index = tokenizer.word_index\n",
        "print('Number of Unique Tokens',len(word_index))"
      ],
      "execution_count": null,
      "outputs": [
        {
          "output_type": "stream",
          "text": [
            "Number of Unique Tokens 5078\n"
          ],
          "name": "stdout"
        }
      ]
    },
    {
      "cell_type": "code",
      "metadata": {
        "colab": {
          "base_uri": "https://localhost:8080/"
        },
        "id": "-acM6siEE9h3",
        "outputId": "caaba091-edd1-4375-a7fd-50f451fb1331"
      },
      "source": [
        "data = pad_sequences(sequences, maxlen=MAX_SEQUENCE_LENGTH)\n",
        "\n",
        "labels = to_categorical(np.asarray(labels))\n",
        "print('Shape of Data Tensor:', data.shape)\n",
        "print('Shape of Label Tensor:', labels.shape)\n",
        "\n",
        "indices = np.arange(data.shape[0])\n",
        "np.random.shuffle(indices)\n",
        "data = data[indices]\n",
        "labels = labels[indices]\n",
        "nb_validation_samples = int(VALIDATION_SPLIT * data.shape[0])\n",
        "\n",
        "x_train = data[:-nb_validation_samples]\n",
        "y_train = labels[:-nb_validation_samples]\n",
        "x_val = data[-nb_validation_samples:]\n",
        "y_val = labels[-nb_validation_samples:]\n"
      ],
      "execution_count": null,
      "outputs": [
        {
          "output_type": "stream",
          "text": [
            "Shape of Data Tensor: (1799, 1000)\n",
            "Shape of Label Tensor: (1799, 2)\n"
          ],
          "name": "stdout"
        }
      ]
    },
    {
      "cell_type": "code",
      "metadata": {
        "colab": {
          "base_uri": "https://localhost:8080/"
        },
        "id": "FcL-kI3EFGKA",
        "outputId": "82150085-1b56-4d05-e6b5-864d15d82777"
      },
      "source": [
        "!wget http://nlp.stanford.edu/data/glove.6B.zip\n"
      ],
      "execution_count": null,
      "outputs": [
        {
          "output_type": "stream",
          "text": [
            "--2021-04-01 15:42:57--  http://nlp.stanford.edu/data/glove.6B.zip\n",
            "Resolving nlp.stanford.edu (nlp.stanford.edu)... 171.64.67.140\n",
            "Connecting to nlp.stanford.edu (nlp.stanford.edu)|171.64.67.140|:80... connected.\n",
            "HTTP request sent, awaiting response... 302 Found\n",
            "Location: https://nlp.stanford.edu/data/glove.6B.zip [following]\n",
            "--2021-04-01 15:42:57--  https://nlp.stanford.edu/data/glove.6B.zip\n",
            "Connecting to nlp.stanford.edu (nlp.stanford.edu)|171.64.67.140|:443... connected.\n",
            "HTTP request sent, awaiting response... 301 Moved Permanently\n",
            "Location: http://downloads.cs.stanford.edu/nlp/data/glove.6B.zip [following]\n",
            "--2021-04-01 15:42:58--  http://downloads.cs.stanford.edu/nlp/data/glove.6B.zip\n",
            "Resolving downloads.cs.stanford.edu (downloads.cs.stanford.edu)... 171.64.64.22\n",
            "Connecting to downloads.cs.stanford.edu (downloads.cs.stanford.edu)|171.64.64.22|:80... connected.\n",
            "HTTP request sent, awaiting response... 200 OK\n",
            "Length: 862182613 (822M) [application/zip]\n",
            "Saving to: ‘glove.6B.zip.2’\n",
            "\n",
            "glove.6B.zip.2      100%[===================>] 822.24M  5.02MB/s    in 2m 40s  \n",
            "\n",
            "2021-04-01 15:45:38 (5.14 MB/s) - ‘glove.6B.zip.2’ saved [862182613/862182613]\n",
            "\n"
          ],
          "name": "stdout"
        }
      ]
    },
    {
      "cell_type": "code",
      "metadata": {
        "colab": {
          "base_uri": "https://localhost:8080/"
        },
        "id": "x_PvemVBGW0d",
        "outputId": "f19a9cf6-a1b5-4732-943a-ec977f3d0264"
      },
      "source": [
        "!unzip glove*.zip\n",
        "!ls\n",
        "!pwd"
      ],
      "execution_count": null,
      "outputs": [
        {
          "output_type": "stream",
          "text": [
            "Archive:  glove.6B.zip\n",
            "  inflating: glove.6B.50d.txt        \n",
            "  inflating: glove.6B.100d.txt       \n",
            "  inflating: glove.6B.200d.txt       \n",
            "  inflating: glove.6B.300d.txt       \n",
            "drive\t\t   glove.6B.300d.txt  glove.6B.zip.1\n",
            "glove.6B.100d.txt  glove.6B.50d.txt   glove.6B.zip.2\n",
            "glove.6B.200d.txt  glove.6B.zip       sample_data\n",
            "/content\n"
          ],
          "name": "stdout"
        }
      ]
    },
    {
      "cell_type": "code",
      "metadata": {
        "colab": {
          "base_uri": "https://localhost:8080/"
        },
        "id": "AYN-EmgiGi1C",
        "outputId": "d28e5376-289a-44d9-edb3-bfed3e9110f8"
      },
      "source": [
        "\n",
        "embeddings_index = {}\n",
        "f = open('glove.6B.100d.txt',encoding='utf8')\n",
        "for line in f:\n",
        "    values = line.split()\n",
        "    word = values[0]\n",
        "    coefs = np.asarray(values[1:], dtype='float32')\n",
        "    embeddings_index[word] = coefs\n",
        "f.close()\n",
        "\n",
        "print('Total %s word vectors in Glove 6B 100d.' % len(embeddings_index))"
      ],
      "execution_count": null,
      "outputs": [
        {
          "output_type": "stream",
          "text": [
            "Total 400000 word vectors in Glove 6B 100d.\n"
          ],
          "name": "stdout"
        }
      ]
    },
    {
      "cell_type": "code",
      "metadata": {
        "id": "WjEF8mo1HSWd"
      },
      "source": [
        "\n",
        "embedding_matrix = np.random.random((len(word_index) + 1, EMBEDDING_DIM))\n",
        "for word, i in word_index.items():\n",
        "    embedding_vector = embeddings_index.get(word)\n",
        "    if embedding_vector is not None:\n",
        "        # words not found in embedding index will be all-zeros.\n",
        "        embedding_matrix[i] = embedding_vector\n",
        "\n",
        "embedding_layer = Embedding(len(word_index) + 1,\n",
        "                            EMBEDDING_DIM,weights=[embedding_matrix],\n",
        "                            input_length=MAX_SEQUENCE_LENGTH,trainable=True)"
      ],
      "execution_count": null,
      "outputs": []
    },
    {
      "cell_type": "code",
      "metadata": {
        "colab": {
          "base_uri": "https://localhost:8080/"
        },
        "id": "H9Oas56CHYpW",
        "outputId": "a2fa4db0-a3e0-4e59-a845-6ae4c2c7de87"
      },
      "source": [
        "sequence_input = Input(shape=(MAX_SEQUENCE_LENGTH,), dtype='int32')\n",
        "embedded_sequences = embedding_layer(sequence_input)\n",
        "l_cov1= Conv1D(128, 5, activation='relu')(embedded_sequences)\n",
        "l_pool1 = MaxPooling1D(5)(l_cov1)\n",
        "l_cov2 = Conv1D(128, 5, activation='relu')(l_pool1)\n",
        "l_pool2 = MaxPooling1D(5)(l_cov2)\n",
        "l_cov3 = Conv1D(128, 5, activation='relu')(l_pool2)\n",
        "l_pool3 = MaxPooling1D(35)(l_cov3)  # global max pooling\n",
        "l_flat = Flatten()(l_pool3)\n",
        "l_dense = Dense(128, activation='relu')(l_flat)\n",
        "preds = Dense(len(macronum), activation='softmax')(l_dense)\n",
        "\n",
        "model = Model(sequence_input, preds)\n",
        "model.compile(loss='categorical_crossentropy',\n",
        "              optimizer='rmsprop',\n",
        "              metrics=['acc'])\n",
        "\n",
        "print(\"Simplified convolutional neural network\")\n",
        "model.summary()\n",
        "cp=ModelCheckpoint('model_cnn.hdf5',monitor='val_acc',verbose=1,save_best_only=True)"
      ],
      "execution_count": null,
      "outputs": [
        {
          "output_type": "stream",
          "text": [
            "Simplified convolutional neural network\n",
            "Model: \"model\"\n",
            "_________________________________________________________________\n",
            "Layer (type)                 Output Shape              Param #   \n",
            "=================================================================\n",
            "input_1 (InputLayer)         [(None, 1000)]            0         \n",
            "_________________________________________________________________\n",
            "embedding (Embedding)        (None, 1000, 100)         507900    \n",
            "_________________________________________________________________\n",
            "conv1d (Conv1D)              (None, 996, 128)          64128     \n",
            "_________________________________________________________________\n",
            "max_pooling1d (MaxPooling1D) (None, 199, 128)          0         \n",
            "_________________________________________________________________\n",
            "conv1d_1 (Conv1D)            (None, 195, 128)          82048     \n",
            "_________________________________________________________________\n",
            "max_pooling1d_1 (MaxPooling1 (None, 39, 128)           0         \n",
            "_________________________________________________________________\n",
            "conv1d_2 (Conv1D)            (None, 35, 128)           82048     \n",
            "_________________________________________________________________\n",
            "max_pooling1d_2 (MaxPooling1 (None, 1, 128)            0         \n",
            "_________________________________________________________________\n",
            "flatten (Flatten)            (None, 128)               0         \n",
            "_________________________________________________________________\n",
            "dense (Dense)                (None, 128)               16512     \n",
            "_________________________________________________________________\n",
            "dense_1 (Dense)              (None, 2)                 258       \n",
            "=================================================================\n",
            "Total params: 752,894\n",
            "Trainable params: 752,894\n",
            "Non-trainable params: 0\n",
            "_________________________________________________________________\n"
          ],
          "name": "stdout"
        }
      ]
    },
    {
      "cell_type": "code",
      "metadata": {
        "colab": {
          "base_uri": "https://localhost:8080/"
        },
        "id": "KUVYoz55Ha2K",
        "outputId": "a3395c92-6160-4f5f-d934-cec7dc8ffad9"
      },
      "source": [
        "history=model.fit(x_train, y_train, validation_data=(x_val, y_val),epochs=15, batch_size=2,callbacks=[cp])"
      ],
      "execution_count": null,
      "outputs": [
        {
          "output_type": "stream",
          "text": [
            "Epoch 1/15\n",
            "720/720 [==============================] - 19s 25ms/step - loss: 0.7414 - acc: 0.5190 - val_loss: 0.5752 - val_acc: 0.6825\n",
            "\n",
            "Epoch 00001: val_acc improved from -inf to 0.68245, saving model to model_cnn.hdf5\n",
            "Epoch 2/15\n",
            "720/720 [==============================] - 17s 24ms/step - loss: 0.6288 - acc: 0.6668 - val_loss: 0.5949 - val_acc: 0.7159\n",
            "\n",
            "Epoch 00002: val_acc improved from 0.68245 to 0.71588, saving model to model_cnn.hdf5\n",
            "Epoch 3/15\n",
            "720/720 [==============================] - 18s 24ms/step - loss: 0.5695 - acc: 0.7358 - val_loss: 0.5145 - val_acc: 0.7437\n",
            "\n",
            "Epoch 00003: val_acc improved from 0.71588 to 0.74373, saving model to model_cnn.hdf5\n",
            "Epoch 4/15\n",
            "720/720 [==============================] - 18s 24ms/step - loss: 0.4571 - acc: 0.8057 - val_loss: 0.5919 - val_acc: 0.7604\n",
            "\n",
            "Epoch 00004: val_acc improved from 0.74373 to 0.76045, saving model to model_cnn.hdf5\n",
            "Epoch 5/15\n",
            "720/720 [==============================] - 18s 24ms/step - loss: 0.3976 - acc: 0.8496 - val_loss: 0.7106 - val_acc: 0.7577\n",
            "\n",
            "Epoch 00005: val_acc did not improve from 0.76045\n",
            "Epoch 6/15\n",
            "720/720 [==============================] - 17s 24ms/step - loss: 0.2964 - acc: 0.8954 - val_loss: 1.2274 - val_acc: 0.6574\n",
            "\n",
            "Epoch 00006: val_acc did not improve from 0.76045\n",
            "Epoch 7/15\n",
            "720/720 [==============================] - 17s 24ms/step - loss: 0.2293 - acc: 0.9314 - val_loss: 1.1381 - val_acc: 0.7075\n",
            "\n",
            "Epoch 00007: val_acc did not improve from 0.76045\n",
            "Epoch 8/15\n",
            "720/720 [==============================] - 17s 24ms/step - loss: 0.2054 - acc: 0.9332 - val_loss: 1.1159 - val_acc: 0.7437\n",
            "\n",
            "Epoch 00008: val_acc did not improve from 0.76045\n",
            "Epoch 9/15\n",
            "720/720 [==============================] - 17s 24ms/step - loss: 0.1690 - acc: 0.9687 - val_loss: 1.4167 - val_acc: 0.7521\n",
            "\n",
            "Epoch 00009: val_acc did not improve from 0.76045\n",
            "Epoch 10/15\n",
            "720/720 [==============================] - 18s 25ms/step - loss: 0.1649 - acc: 0.9613 - val_loss: 1.4686 - val_acc: 0.6936\n",
            "\n",
            "Epoch 00010: val_acc did not improve from 0.76045\n",
            "Epoch 11/15\n",
            "720/720 [==============================] - 18s 25ms/step - loss: 0.1002 - acc: 0.9799 - val_loss: 1.8521 - val_acc: 0.7465\n",
            "\n",
            "Epoch 00011: val_acc did not improve from 0.76045\n",
            "Epoch 12/15\n",
            "720/720 [==============================] - 18s 24ms/step - loss: 0.0760 - acc: 0.9827 - val_loss: 2.2767 - val_acc: 0.7298\n",
            "\n",
            "Epoch 00012: val_acc did not improve from 0.76045\n",
            "Epoch 13/15\n",
            "720/720 [==============================] - 18s 25ms/step - loss: 0.0881 - acc: 0.9861 - val_loss: 1.4591 - val_acc: 0.7437\n",
            "\n",
            "Epoch 00013: val_acc did not improve from 0.76045\n",
            "Epoch 14/15\n",
            "720/720 [==============================] - 18s 25ms/step - loss: 0.1235 - acc: 0.9806 - val_loss: 1.7521 - val_acc: 0.7493\n",
            "\n",
            "Epoch 00014: val_acc did not improve from 0.76045\n",
            "Epoch 15/15\n",
            "720/720 [==============================] - 18s 24ms/step - loss: 0.0610 - acc: 0.9835 - val_loss: 1.6228 - val_acc: 0.7103\n",
            "\n",
            "Epoch 00015: val_acc did not improve from 0.76045\n"
          ],
          "name": "stdout"
        }
      ]
    },
    {
      "cell_type": "code",
      "metadata": {
        "colab": {
          "base_uri": "https://localhost:8080/"
        },
        "id": "r76pCK7jJKqC",
        "outputId": "e88f821f-1a65-45c6-a0d7-f169bc936038"
      },
      "source": [
        "score = model.evaluate(x_train, y_train,\n",
        "                       batch_size=2, verbose=2)\n",
        "print('Train loss:', score[0])\n",
        "print('Train accuracy:', score[1])"
      ],
      "execution_count": null,
      "outputs": [
        {
          "output_type": "stream",
          "text": [
            "720/720 - 4s - loss: 0.0144 - acc: 0.9958\n",
            "Train loss: 0.01437106542289257\n",
            "Train accuracy: 0.9958333373069763\n"
          ],
          "name": "stdout"
        }
      ]
    },
    {
      "cell_type": "code",
      "metadata": {
        "colab": {
          "base_uri": "https://localhost:8080/"
        },
        "id": "qfc52DcwJZoM",
        "outputId": "1eb3b75a-8346-4074-fb16-e9a14fb6fd25"
      },
      "source": [
        "score = model.evaluate(x_val, y_val,\n",
        "                       batch_size=2, verbose=2)\n",
        "print('Test loss:', score[0])\n",
        "print('Test accuracy:', score[1])"
      ],
      "execution_count": null,
      "outputs": [
        {
          "output_type": "stream",
          "text": [
            "180/180 - 1s - loss: 1.6228 - acc: 0.7103\n",
            "Test loss: 1.6228331327438354\n",
            "Test accuracy: 0.7103064060211182\n"
          ],
          "name": "stdout"
        }
      ]
    },
    {
      "cell_type": "code",
      "metadata": {
        "id": "DMPDd6VIrS4I"
      },
      "source": [
        ""
      ],
      "execution_count": null,
      "outputs": []
    },
    {
      "cell_type": "code",
      "metadata": {
        "colab": {
          "base_uri": "https://localhost:8080/",
          "height": 297
        },
        "id": "UukpWbkQHdsl",
        "outputId": "17847e77-14b1-4e7b-97da-b7a05ec6b99d"
      },
      "source": [
        "fig1 = plt.figure()\n",
        "plt.plot(history.history['loss'],'r',linewidth=1.5)\n",
        "plt.plot(history.history['val_loss'],'g',linewidth=1.5)\n",
        "plt.legend(['Training loss', 'Validation Loss'],fontsize=10)\n",
        "plt.xlabel('Epochs ',fontsize=10)\n",
        "plt.ylabel('Loss',fontsize=10)\n",
        "plt.title('Loss Curves :CNN',fontsize=15)\n",
        "plt.show()"
      ],
      "execution_count": null,
      "outputs": [
        {
          "output_type": "display_data",
          "data": {
            "image/png": "[encoded data removed]",
            "text/plain": [
              "<Figure size 432x288 with 1 Axes>"
            ]
          },
          "metadata": {
            "tags": [],
            "needs_background": "light"
          }
        }
      ]
    },
    {
      "cell_type": "code",
      "metadata": {
        "colab": {
          "base_uri": "https://localhost:8080/",
          "height": 297
        },
        "id": "xcQb8LeCI-BX",
        "outputId": "76c93b4e-82f8-48c6-eacb-de174e76cdbb"
      },
      "source": [
        "fig2=plt.figure()\n",
        "plt.plot(history.history['acc'],'r',linewidth=1.5)\n",
        "plt.plot(history.history['val_acc'],'g',linewidth=1.5)\n",
        "plt.legend(['Training Accuracy', 'Validation Accuracy'],fontsize=10)\n",
        "plt.xlabel('Epochs ',fontsize=10)\n",
        "plt.ylabel('Accuracy',fontsize=10)\n",
        "plt.title('Accuracy Curves : CNN',fontsize=15)\n",
        "plt.show()"
      ],
      "execution_count": null,
      "outputs": [
        {
          "output_type": "display_data",
          "data": {
            "image/png": "[encoded data removed]",
            "text/plain": [
              "<Figure size 432x288 with 1 Axes>"
            ]
          },
          "metadata": {
            "tags": [],
            "needs_background": "light"
          }
        }
      ]
    }
  ]
}