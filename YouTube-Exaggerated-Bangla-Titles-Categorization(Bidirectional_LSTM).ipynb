{
  "nbformat": 4,
  "nbformat_minor": 0,
  "metadata": {
    "colab": {
      "name": "Youtube Title prediction(Bidirectional LSTM).ipynb",
      "provenance": [],
      "collapsed_sections": [],
      "mount_file_id": "1k9sDJm3aaS2mgrkEUzwVrxH-c9jfIqnD",
      "authorship_tag": "ABX9TyNzmA5FIUO4Gt94usOcqbLI",
      "include_colab_link": true
    },
    "kernelspec": {
      "name": "python3",
      "display_name": "Python 3"
    },
    "language_info": {
      "name": "python"
    }
  },
  "cells": [
    {
      "cell_type": "markdown",
      "metadata": {
        "id": "view-in-github",
        "colab_type": "text"
      },
      "source": [
        "<a href=\"https://colab.research.google.com/github/islam-mirajul/YouTube-Exaggerated-Bangla-Titles-Categorization/blob/main/YouTube-Exaggerated-Bangla-Titles-Categorization(Bidirectional_LSTM).ipynb\" target=\"_parent\"><img src=\"https://colab.research.google.com/assets/colab-badge.svg\" alt=\"Open In Colab\"/></a>"
      ]
    },
    {
      "cell_type": "code",
      "metadata": {
        "id": "Zanl3GTQP_Fw"
      },
      "source": [
        "import numpy as np\n",
        "import pandas as pd\n",
        "import pickle\n",
        "from collections import defaultdict\n",
        "import re\n",
        "from bs4 import BeautifulSoup\n",
        "import sys\n",
        "import os\n",
        "os.environ['KERAS_BACKEND']='theano' \n",
        "from keras.preprocessing.text import Tokenizer\n",
        "from keras.preprocessing.sequence import pad_sequences\n",
        "from keras.utils.np_utils import to_categorical\n",
        "from keras.layers import Embedding\n",
        "from keras.layers import Dense, Input, Flatten\n",
        "from keras.layers import Conv1D, MaxPooling1D, Embedding, Dropout\n",
        "from keras.models import Model\n",
        "from keras.callbacks import ModelCheckpoint\n",
        "import matplotlib.pyplot as plt\n",
        "plt.switch_backend('agg')\n",
        "%matplotlib inline"
      ],
      "execution_count": null,
      "outputs": []
    },
    {
      "cell_type": "code",
      "metadata": {
        "id": "_fLSXDLuQozL"
      },
      "source": [
        "\n",
        "def clean_str(string):\n",
        "    string = re.sub(r\"\\\\\", \"\", string)\n",
        "    string = re.sub(r\"\\'\", \"\", string)\n",
        "    string = re.sub(r\"\\\"\", \"\", string)\n",
        "    return string.strip().lower()"
      ],
      "execution_count": null,
      "outputs": []
    },
    {
      "cell_type": "code",
      "metadata": {
        "id": "wJ9Ix28fQrpt"
      },
      "source": [
        "MAX_SEQUENCE_LENGTH = 1000\n",
        "MAX_NB_WORDS = 20000\n",
        "EMBEDDING_DIM = 100\n",
        "VALIDATION_SPLIT = 0.2"
      ],
      "execution_count": null,
      "outputs": []
    },
    {
      "cell_type": "code",
      "metadata": {
        "colab": {
          "base_uri": "https://localhost:8080/"
        },
        "id": "LKDxbK2JQrmH",
        "outputId": "4b8dc9a6-b1c5-4908-f1a4-83b9b328c149"
      },
      "source": [
        "# reading data\n",
        "df = pd.read_csv('/content/drive/MyDrive/youtube project/youtubeRD-csv.csv')\n",
        "print(df.columns)\n",
        "print('No. of unique classes',len(set(df['Type'])))"
      ],
      "execution_count": null,
      "outputs": [
        {
          "output_type": "stream",
          "text": [
            "Index(['Title', 'Type'], dtype='object')\n",
            "No. of unique classes 2\n"
          ],
          "name": "stdout"
        }
      ]
    },
    {
      "cell_type": "code",
      "metadata": {
        "id": "CXKnZp_aQrju"
      },
      "source": [
        "macronum=sorted(set(df['Type']))\n",
        "macro_to_id = dict((note, number) for number, note in enumerate(macronum))\n",
        "\n",
        "def fun(i):\n",
        "    return macro_to_id[i]\n",
        "\n",
        "df['Type']=df['Type'].apply(fun)"
      ],
      "execution_count": null,
      "outputs": []
    },
    {
      "cell_type": "code",
      "metadata": {
        "id": "crcDImHUQrhJ"
      },
      "source": [
        "texts = []\n",
        "labels = []\n",
        "\n",
        "\n",
        "for idx in range(df.Title.shape[0]):\n",
        "    text = BeautifulSoup(df.Title[idx])\n",
        "    texts.append(clean_str(str(text.get_text().encode())))\n",
        "\n",
        "for idx in df['Type']:\n",
        "    labels.append(idx)"
      ],
      "execution_count": null,
      "outputs": []
    },
    {
      "cell_type": "code",
      "metadata": {
        "colab": {
          "base_uri": "https://localhost:8080/"
        },
        "id": "Qh9VBtMOQrei",
        "outputId": "e891da43-ba51-4207-9ab7-70ec93d6d05e"
      },
      "source": [
        "tokenizer = Tokenizer(num_words=MAX_NB_WORDS)\n",
        "tokenizer.fit_on_texts(texts)\n",
        "sequences = tokenizer.texts_to_sequences(texts)\n",
        "\n",
        "word_index = tokenizer.word_index\n",
        "print('Number of Unique Tokens',len(word_index))"
      ],
      "execution_count": null,
      "outputs": [
        {
          "output_type": "stream",
          "text": [
            "Number of Unique Tokens 5078\n"
          ],
          "name": "stdout"
        }
      ]
    },
    {
      "cell_type": "code",
      "metadata": {
        "colab": {
          "base_uri": "https://localhost:8080/"
        },
        "id": "v14r4htiQrbb",
        "outputId": "0e80496a-6cd8-453f-a269-77f4c55b2529"
      },
      "source": [
        "data = pad_sequences(sequences, maxlen=MAX_SEQUENCE_LENGTH)\n",
        "\n",
        "labels = to_categorical(np.asarray(labels))\n",
        "print('Shape of Data Tensor:', data.shape)\n",
        "print('Shape of Label Tensor:', labels.shape)\n",
        "\n",
        "indices = np.arange(data.shape[0])\n",
        "np.random.shuffle(indices)\n",
        "data = data[indices]\n",
        "labels = labels[indices]\n",
        "nb_validation_samples = int(VALIDATION_SPLIT * data.shape[0])\n",
        "\n",
        "x_train = data[:-nb_validation_samples]\n",
        "y_train = labels[:-nb_validation_samples]\n",
        "x_val = data[-nb_validation_samples:]\n",
        "y_val = labels[-nb_validation_samples:]\n"
      ],
      "execution_count": null,
      "outputs": [
        {
          "output_type": "stream",
          "text": [
            "Shape of Data Tensor: (1799, 1000)\n",
            "Shape of Label Tensor: (1799, 2)\n"
          ],
          "name": "stdout"
        }
      ]
    },
    {
      "cell_type": "code",
      "metadata": {
        "colab": {
          "base_uri": "https://localhost:8080/"
        },
        "id": "AMO-iT8_QrYo",
        "outputId": "c5741c0a-b5d4-4c8e-993c-eb4e78e81f03"
      },
      "source": [
        "!wget http://nlp.stanford.edu/data/glove.6B.zip"
      ],
      "execution_count": null,
      "outputs": [
        {
          "output_type": "stream",
          "text": [
            "--2021-04-01 16:30:17--  http://nlp.stanford.edu/data/glove.6B.zip\n",
            "Resolving nlp.stanford.edu (nlp.stanford.edu)... 171.64.67.140\n",
            "Connecting to nlp.stanford.edu (nlp.stanford.edu)|171.64.67.140|:80... connected.\n",
            "HTTP request sent, awaiting response... 302 Found\n",
            "Location: https://nlp.stanford.edu/data/glove.6B.zip [following]\n",
            "--2021-04-01 16:30:17--  https://nlp.stanford.edu/data/glove.6B.zip\n",
            "Connecting to nlp.stanford.edu (nlp.stanford.edu)|171.64.67.140|:443... connected.\n",
            "HTTP request sent, awaiting response... 301 Moved Permanently\n",
            "Location: http://downloads.cs.stanford.edu/nlp/data/glove.6B.zip [following]\n",
            "--2021-04-01 16:30:18--  http://downloads.cs.stanford.edu/nlp/data/glove.6B.zip\n",
            "Resolving downloads.cs.stanford.edu (downloads.cs.stanford.edu)... 171.64.64.22\n",
            "Connecting to downloads.cs.stanford.edu (downloads.cs.stanford.edu)|171.64.64.22|:80... connected.\n",
            "HTTP request sent, awaiting response... 200 OK\n",
            "Length: 862182613 (822M) [application/zip]\n",
            "Saving to: ‘glove.6B.zip’\n",
            "\n",
            "glove.6B.zip        100%[===================>] 822.24M  5.34MB/s    in 2m 43s  \n",
            "\n",
            "2021-04-01 16:33:02 (5.04 MB/s) - ‘glove.6B.zip’ saved [862182613/862182613]\n",
            "\n"
          ],
          "name": "stdout"
        }
      ]
    },
    {
      "cell_type": "code",
      "metadata": {
        "colab": {
          "base_uri": "https://localhost:8080/"
        },
        "id": "PdbxW1dDQrV6",
        "outputId": "342ec655-3043-4fb4-9223-8a5044565ab9"
      },
      "source": [
        "!unzip glove*.zip\n",
        "!ls\n",
        "!pwd"
      ],
      "execution_count": null,
      "outputs": [
        {
          "output_type": "stream",
          "text": [
            "Archive:  glove.6B.zip\n",
            "  inflating: glove.6B.50d.txt        \n",
            "  inflating: glove.6B.100d.txt       \n",
            "  inflating: glove.6B.200d.txt       \n",
            "  inflating: glove.6B.300d.txt       \n",
            "drive\t\t   glove.6B.200d.txt  glove.6B.50d.txt\tsample_data\n",
            "glove.6B.100d.txt  glove.6B.300d.txt  glove.6B.zip\n",
            "/content\n"
          ],
          "name": "stdout"
        }
      ]
    },
    {
      "cell_type": "code",
      "metadata": {
        "colab": {
          "base_uri": "https://localhost:8080/"
        },
        "id": "0tN7CjLYQrTI",
        "outputId": "5cdd1bf6-1ec2-499e-f486-0886f7339a14"
      },
      "source": [
        "embeddings_index = {}\n",
        "f = open('glove.6B.100d.txt',encoding='utf8')\n",
        "for line in f:\n",
        "    values = line.split()\n",
        "    word = values[0]\n",
        "    coefs = np.asarray(values[1:], dtype='float32')\n",
        "    embeddings_index[word] = coefs\n",
        "f.close()\n",
        "\n",
        "print('Total %s word vectors in Glove 6B 100d.' % len(embeddings_index))"
      ],
      "execution_count": null,
      "outputs": [
        {
          "output_type": "stream",
          "text": [
            "Total 400000 word vectors in Glove 6B 100d.\n"
          ],
          "name": "stdout"
        }
      ]
    },
    {
      "cell_type": "code",
      "metadata": {
        "id": "g3ZcZEqIQrQW"
      },
      "source": [
        "embedding_matrix = np.random.random((len(word_index) + 1, EMBEDDING_DIM))\n",
        "for word, i in word_index.items():\n",
        "    embedding_vector = embeddings_index.get(word)\n",
        "    if embedding_vector is not None:\n",
        "        embedding_matrix[i] = embedding_vector\n",
        "\n",
        "embedding_layer = Embedding(len(word_index) + 1,\n",
        "                            EMBEDDING_DIM,weights=[embedding_matrix],\n",
        "                            input_length=MAX_SEQUENCE_LENGTH,trainable=True)"
      ],
      "execution_count": null,
      "outputs": []
    },
    {
      "cell_type": "code",
      "metadata": {
        "colab": {
          "base_uri": "https://localhost:8080/"
        },
        "id": "c38TyZ4MQrNp",
        "outputId": "71803da7-ba14-4f74-fd0d-933d9347f928"
      },
      "source": [
        "from keras.layers import Conv1D, MaxPooling1D, Embedding, Dropout, LSTM, GRU, Bidirectional\n",
        "from keras.models import Model\n",
        "from keras.callbacks import ModelCheckpoint\n",
        "sequence_input = Input(shape=(MAX_SEQUENCE_LENGTH,), dtype='int32')\n",
        "embedded_sequences = embedding_layer(sequence_input)\n",
        "l_lstm = Bidirectional(LSTM(100))(embedded_sequences)\n",
        "preds = Dense(len(macronum), activation='softmax')(l_lstm)\n",
        "model = Model(sequence_input, preds)\n",
        "model.compile(loss='categorical_crossentropy',\n",
        "              optimizer='rmsprop',\n",
        "              metrics=['acc'])\n",
        "\n",
        "print(\"Bidirectional LSTM\")\n",
        "model.summary()"
      ],
      "execution_count": null,
      "outputs": [
        {
          "output_type": "stream",
          "text": [
            "Bidirectional LSTM\n",
            "Model: \"model\"\n",
            "_________________________________________________________________\n",
            "Layer (type)                 Output Shape              Param #   \n",
            "=================================================================\n",
            "input_2 (InputLayer)         [(None, 1000)]            0         \n",
            "_________________________________________________________________\n",
            "embedding (Embedding)        (None, 1000, 100)         507900    \n",
            "_________________________________________________________________\n",
            "bidirectional (Bidirectional (None, 200)               160800    \n",
            "_________________________________________________________________\n",
            "dense (Dense)                (None, 2)                 402       \n",
            "=================================================================\n",
            "Total params: 669,102\n",
            "Trainable params: 669,102\n",
            "Non-trainable params: 0\n",
            "_________________________________________________________________\n"
          ],
          "name": "stdout"
        }
      ]
    },
    {
      "cell_type": "code",
      "metadata": {
        "colab": {
          "base_uri": "https://localhost:8080/"
        },
        "id": "DF6QkrKjQrLR",
        "outputId": "3f2988b9-6a98-4c97-88e4-df6aba463cfe"
      },
      "source": [
        "cp=ModelCheckpoint('model_rnn.hdf5',monitor='val_acc',verbose=1,save_best_only=True)\n",
        "history=model.fit(x_train, y_train, validation_data=(x_val, y_val),epochs=15, batch_size=2,callbacks=[cp])"
      ],
      "execution_count": null,
      "outputs": [
        {
          "output_type": "stream",
          "text": [
            "Epoch 1/15\n",
            "720/720 [==============================] - 476s 656ms/step - loss: 0.6918 - acc: 0.6050 - val_loss: 0.5819 - val_acc: 0.7242\n",
            "\n",
            "Epoch 00001: val_acc improved from -inf to 0.72423, saving model to model_rnn.hdf5\n",
            "Epoch 2/15\n",
            "720/720 [==============================] - 476s 661ms/step - loss: 0.5135 - acc: 0.7532 - val_loss: 0.6933 - val_acc: 0.5153\n",
            "\n",
            "Epoch 00002: val_acc did not improve from 0.72423\n",
            "Epoch 3/15\n",
            "720/720 [==============================] - 482s 670ms/step - loss: 0.4190 - acc: 0.8227 - val_loss: 0.4895 - val_acc: 0.7604\n",
            "\n",
            "Epoch 00003: val_acc improved from 0.72423 to 0.76045, saving model to model_rnn.hdf5\n",
            "Epoch 4/15\n",
            "720/720 [==============================] - 477s 662ms/step - loss: 0.3621 - acc: 0.8320 - val_loss: 0.5085 - val_acc: 0.7465\n",
            "\n",
            "Epoch 00004: val_acc did not improve from 0.76045\n",
            "Epoch 5/15\n",
            "720/720 [==============================] - 477s 663ms/step - loss: 0.6091 - acc: 0.7531 - val_loss: 0.4819 - val_acc: 0.7716\n",
            "\n",
            "Epoch 00005: val_acc improved from 0.76045 to 0.77159, saving model to model_rnn.hdf5\n",
            "Epoch 6/15\n",
            "720/720 [==============================] - 477s 663ms/step - loss: 0.4263 - acc: 0.8158 - val_loss: 0.6104 - val_acc: 0.7214\n",
            "\n",
            "Epoch 00006: val_acc did not improve from 0.77159\n",
            "Epoch 7/15\n",
            "720/720 [==============================] - 477s 663ms/step - loss: 0.2803 - acc: 0.8876 - val_loss: 0.5073 - val_acc: 0.7688\n",
            "\n",
            "Epoch 00007: val_acc did not improve from 0.77159\n",
            "Epoch 8/15\n",
            "720/720 [==============================] - 477s 662ms/step - loss: 0.2152 - acc: 0.9176 - val_loss: 0.6075 - val_acc: 0.7409\n",
            "\n",
            "Epoch 00008: val_acc did not improve from 0.77159\n",
            "Epoch 9/15\n",
            "720/720 [==============================] - 477s 663ms/step - loss: 0.1985 - acc: 0.9380 - val_loss: 0.6440 - val_acc: 0.7688\n",
            "\n",
            "Epoch 00009: val_acc did not improve from 0.77159\n",
            "Epoch 10/15\n",
            "720/720 [==============================] - 477s 663ms/step - loss: 0.1725 - acc: 0.9394 - val_loss: 0.4972 - val_acc: 0.7827\n",
            "\n",
            "Epoch 00010: val_acc improved from 0.77159 to 0.78273, saving model to model_rnn.hdf5\n",
            "Epoch 11/15\n",
            "720/720 [==============================] - 477s 662ms/step - loss: 0.4290 - acc: 0.8310 - val_loss: 0.6517 - val_acc: 0.7744\n",
            "\n",
            "Epoch 00011: val_acc did not improve from 0.78273\n",
            "Epoch 12/15\n",
            "720/720 [==============================] - 477s 663ms/step - loss: 0.3887 - acc: 0.8437 - val_loss: 0.5758 - val_acc: 0.7409\n",
            "\n",
            "Epoch 00012: val_acc did not improve from 0.78273\n",
            "Epoch 13/15\n",
            "720/720 [==============================] - 478s 664ms/step - loss: 0.2140 - acc: 0.9297 - val_loss: 0.5495 - val_acc: 0.7577\n",
            "\n",
            "Epoch 00013: val_acc did not improve from 0.78273\n",
            "Epoch 14/15\n",
            "720/720 [==============================] - 479s 665ms/step - loss: 0.2551 - acc: 0.9040 - val_loss: 0.6841 - val_acc: 0.7716\n",
            "\n",
            "Epoch 00014: val_acc did not improve from 0.78273\n",
            "Epoch 15/15\n",
            "720/720 [==============================] - 478s 664ms/step - loss: 0.1656 - acc: 0.9447 - val_loss: 0.8993 - val_acc: 0.7772\n",
            "\n",
            "Epoch 00015: val_acc did not improve from 0.78273\n"
          ],
          "name": "stdout"
        }
      ]
    },
    {
      "cell_type": "code",
      "metadata": {
        "colab": {
          "base_uri": "https://localhost:8080/"
        },
        "id": "4Yg7V8IxQrIz",
        "outputId": "2ddc78ae-de96-401a-e6ce-07bc3e9d3d5e"
      },
      "source": [
        "score = model.evaluate(x_train, y_train,\n",
        "                       batch_size=2, verbose=2)\n",
        "print('Train loss:', score[0])\n",
        "print('Train accuracy:', score[1])"
      ],
      "execution_count": null,
      "outputs": [
        {
          "output_type": "stream",
          "text": [
            "720/720 - 65s - loss: 0.1227 - acc: 0.9542\n",
            "Train loss: 0.12273810803890228\n",
            "Train accuracy: 0.9541666507720947\n"
          ],
          "name": "stdout"
        }
      ]
    },
    {
      "cell_type": "code",
      "metadata": {
        "colab": {
          "base_uri": "https://localhost:8080/"
        },
        "id": "YbGEABNqQrGZ",
        "outputId": "63384bc3-6f90-46e0-ae81-953e7de8f5f8"
      },
      "source": [
        "score = model.evaluate(x_val, y_val,\n",
        "                       batch_size=2, verbose=2)\n",
        "print('Test loss:', score[0])\n",
        "print('Test accuracy:', score[1])"
      ],
      "execution_count": null,
      "outputs": [
        {
          "output_type": "stream",
          "text": [
            "180/180 - 16s - loss: 0.8993 - acc: 0.7772\n",
            "Test loss: 0.899274468421936\n",
            "Test accuracy: 0.777158796787262\n"
          ],
          "name": "stdout"
        }
      ]
    },
    {
      "cell_type": "code",
      "metadata": {
        "colab": {
          "base_uri": "https://localhost:8080/",
          "height": 297
        },
        "id": "x4z3j8SNQrDx",
        "outputId": "8b7c218f-ce3e-4689-b211-03f90402366a"
      },
      "source": [
        "fig1 = plt.figure()\n",
        "plt.plot(history.history['loss'],'r',linewidth=1.5)\n",
        "plt.plot(history.history['val_loss'],'g',linewidth=1.5)\n",
        "plt.legend(['Training loss', 'Validation Loss'],fontsize=10)\n",
        "plt.xlabel('Epochs ',fontsize=10)\n",
        "plt.ylabel('Loss',fontsize=10)\n",
        "plt.title('Loss Curves :CNN',fontsize=15)\n",
        "plt.show()"
      ],
      "execution_count": null,
      "outputs": [
        {
          "output_type": "display_data",
          "data": {
            "image/png": "[encoded data removed]",
            "text/plain": [
              "<Figure size 432x288 with 1 Axes>"
            ]
          },
          "metadata": {
            "tags": [],
            "needs_background": "light"
          }
        }
      ]
    },
    {
      "cell_type": "code",
      "metadata": {
        "colab": {
          "base_uri": "https://localhost:8080/",
          "height": 297
        },
        "id": "ZEcJ5IK3QrBM",
        "outputId": "b4381f91-5feb-4b30-acb7-8bfd0b608cce"
      },
      "source": [
        "fig2=plt.figure()\n",
        "plt.plot(history.history['acc'],'r',linewidth=1.5)\n",
        "plt.plot(history.history['val_acc'],'g',linewidth=1.5)\n",
        "plt.legend(['Training Accuracy', 'Validation Accuracy'],fontsize=10)\n",
        "plt.xlabel('Epochs ',fontsize=10)\n",
        "plt.ylabel('Accuracy',fontsize=10)\n",
        "plt.title('Accuracy Curves : CNN',fontsize=15)\n",
        "plt.show()"
      ],
      "execution_count": null,
      "outputs": [
        {
          "output_type": "display_data",
          "data": {
            "image/png": "[encoded data removed]",
            "text/plain": [
              "<Figure size 432x288 with 1 Axes>"
            ]
          },
          "metadata": {
            "tags": [],
            "needs_background": "light"
          }
        }
      ]
    }
  ]
}