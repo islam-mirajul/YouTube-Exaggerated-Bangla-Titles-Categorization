{
  "nbformat": 4,
  "nbformat_minor": 0,
  "metadata": {
    "colab": {
      "name": "youtube title prediction-traditional ML.ipynb",
      "provenance": [],
      "collapsed_sections": [],
      "mount_file_id": "1JLNBTHjIVQbtCRcFLH2J9B6J1R_k_rUV",
      "authorship_tag": "ABX9TyPIAN1LDLHykh2qg/botViv",
      "include_colab_link": true
    },
    "kernelspec": {
      "name": "python3",
      "display_name": "Python 3"
    }
  },
  "cells": [
    {
      "cell_type": "markdown",
      "metadata": {
        "id": "view-in-github",
        "colab_type": "text"
      },
      "source": [
        "<a href=\"https://colab.research.google.com/github/islam-mirajul/YouTube-Exaggerated-Bangla-Titles-Categorization/blob/main/YouTube-Exaggerated-Bangla-Titles-Categorization(8%20ML%20Models).ipynb\" target=\"_parent\"><img src=\"https://colab.research.google.com/assets/colab-badge.svg\" alt=\"Open In Colab\"/></a>"
      ]
    },
    {
      "cell_type": "code",
      "metadata": {
        "id": "QC_gQHJdpqYy"
      },
      "source": [
        "import numpy as np\n",
        "import pandas as pd\n",
        "import matplotlib.pyplot as plt\n",
        "import seaborn as sns\n",
        "%matplotlib inline\n",
        "import warnings\n",
        "import unicodedata"
      ],
      "execution_count": null,
      "outputs": []
    },
    {
      "cell_type": "code",
      "metadata": {
        "colab": {
          "base_uri": "https://localhost:8080/",
          "height": 419
        },
        "id": "ZEWB5SC75NQS",
        "outputId": "b78bb7d6-fc21-4f57-a24f-e09e0ff818c5"
      },
      "source": [
        "df = pd.read_csv('/content/drive/MyDrive/youtube project/youtubeRD-csv.csv',error_bad_lines=False)\n",
        "df"
      ],
      "execution_count": null,
      "outputs": [
        {
          "output_type": "execute_result",
          "data": {
            "text/html": [
              "<div>\n",
              "<style scoped>\n",
              "    .dataframe tbody tr th:only-of-type {\n",
              "        vertical-align: middle;\n",
              "    }\n",
              "\n",
              "    .dataframe tbody tr th {\n",
              "        vertical-align: top;\n",
              "    }\n",
              "\n",
              "    .dataframe thead th {\n",
              "        text-align: right;\n",
              "    }\n",
              "</style>\n",
              "<table border=\"1\" class=\"dataframe\">\n",
              "  <thead>\n",
              "    <tr style=\"text-align: right;\">\n",
              "      <th></th>\n",
              "      <th>Title</th>\n",
              "      <th>Type</th>\n",
              "    </tr>\n",
              "  </thead>\n",
              "  <tbody>\n",
              "    <tr>\n",
              "      <th>0</th>\n",
              "      <td>\"বেনিংটন ট্রায়াঙ্গল\"- যে বন থেকে ফিরে আসা যায...</td>\n",
              "      <td>অতিরঞ্জিত</td>\n",
              "    </tr>\n",
              "    <tr>\n",
              "      <th>1</th>\n",
              "      <td>১ বছরের বাচ্চাটিকে মা একলা বন্ধ ঘরে ফেলে রেখে ...</td>\n",
              "      <td>অতিরঞ্জিত</td>\n",
              "    </tr>\n",
              "    <tr>\n",
              "      <th>2</th>\n",
              "      <td>১০ জন মানুষ যাদের কে দেখলে বিশ্বাস করতে পারবেন না</td>\n",
              "      <td>অতিরঞ্জিত</td>\n",
              "    </tr>\n",
              "    <tr>\n",
              "      <th>3</th>\n",
              "      <td>১০ জন মানুষ যারা বোকামী করে তাদের জীবন হারিয়েছে</td>\n",
              "      <td>সামঞ্জস্যপূর্ণ</td>\n",
              "    </tr>\n",
              "    <tr>\n",
              "      <th>4</th>\n",
              "      <td>10 টি অবাক করে দেয়া ফ্যাক্ট আপনি আগে জানতেন না</td>\n",
              "      <td>অতিরঞ্জিত</td>\n",
              "    </tr>\n",
              "    <tr>\n",
              "      <th>...</th>\n",
              "      <td>...</td>\n",
              "      <td>...</td>\n",
              "    </tr>\n",
              "    <tr>\n",
              "      <th>1794</th>\n",
              "      <td>হুমায়ুন আহমেদ মৃত্যুর পর যে কথাটি আমাকে সবচেয...</td>\n",
              "      <td>সামঞ্জস্যপূর্ণ</td>\n",
              "    </tr>\n",
              "    <tr>\n",
              "      <th>1795</th>\n",
              "      <td>হুয়াং ডাফা -পাহাড়ের সাথে যুদ্ধ করা বাস্তব জী...</td>\n",
              "      <td>অতিরঞ্জিত</td>\n",
              "    </tr>\n",
              "    <tr>\n",
              "      <th>1796</th>\n",
              "      <td>হুরে মদিনা এক প্রেমের সত্য কাহিনী। চোখের পানি ...</td>\n",
              "      <td>অতিরঞ্জিত</td>\n",
              "    </tr>\n",
              "    <tr>\n",
              "      <th>1797</th>\n",
              "      <td>হেলিকপ্টারে টাকা নিলেও সেই টাকা বাসায় নিতে পা...</td>\n",
              "      <td>সামঞ্জস্যপূর্ণ</td>\n",
              "    </tr>\n",
              "    <tr>\n",
              "      <th>1798</th>\n",
              "      <td>হোন্ডার ৬৫০ সিসির নতুন সিবিআর বাইক!! ৬৫০ সিসির...</td>\n",
              "      <td>সামঞ্জস্যপূর্ণ</td>\n",
              "    </tr>\n",
              "  </tbody>\n",
              "</table>\n",
              "<p>1799 rows × 2 columns</p>\n",
              "</div>"
            ],
            "text/plain": [
              "                                                  Title            Type\n",
              "0     \"বেনিংটন ট্রায়াঙ্গল\"- যে বন থেকে ফিরে আসা যায...       অতিরঞ্জিত\n",
              "1     ১ বছরের বাচ্চাটিকে মা একলা বন্ধ ঘরে ফেলে রেখে ...       অতিরঞ্জিত\n",
              "2     ১০ জন মানুষ যাদের কে দেখলে বিশ্বাস করতে পারবেন না       অতিরঞ্জিত\n",
              "3      ১০ জন মানুষ যারা বোকামী করে তাদের জীবন হারিয়েছে  সামঞ্জস্যপূর্ণ\n",
              "4       10 টি অবাক করে দেয়া ফ্যাক্ট আপনি আগে জানতেন না       অতিরঞ্জিত\n",
              "...                                                 ...             ...\n",
              "1794  হুমায়ুন আহমেদ মৃত্যুর পর যে কথাটি আমাকে সবচেয...  সামঞ্জস্যপূর্ণ\n",
              "1795  হুয়াং ডাফা -পাহাড়ের সাথে যুদ্ধ করা বাস্তব জী...       অতিরঞ্জিত\n",
              "1796  হুরে মদিনা এক প্রেমের সত্য কাহিনী। চোখের পানি ...       অতিরঞ্জিত\n",
              "1797  হেলিকপ্টারে টাকা নিলেও সেই টাকা বাসায় নিতে পা...  সামঞ্জস্যপূর্ণ\n",
              "1798  হোন্ডার ৬৫০ সিসির নতুন সিবিআর বাইক!! ৬৫০ সিসির...  সামঞ্জস্যপূর্ণ\n",
              "\n",
              "[1799 rows x 2 columns]"
            ]
          },
          "metadata": {
            "tags": []
          },
          "execution_count": 4
        }
      ]
    },
    {
      "cell_type": "code",
      "metadata": {
        "colab": {
          "base_uri": "https://localhost:8080/"
        },
        "id": "Fg1Ryqrj5YzY",
        "outputId": "ba2e192e-c58c-41df-dcce-c1c8b79b1db5"
      },
      "source": [
        "df.isnull().sum()"
      ],
      "execution_count": null,
      "outputs": [
        {
          "output_type": "execute_result",
          "data": {
            "text/plain": [
              "Title    0\n",
              "Type     0\n",
              "dtype: int64"
            ]
          },
          "metadata": {
            "tags": []
          },
          "execution_count": 5
        }
      ]
    },
    {
      "cell_type": "code",
      "metadata": {
        "colab": {
          "base_uri": "https://localhost:8080/"
        },
        "id": "L6_u8sQC5hZh",
        "outputId": "7bb10a56-6cee-42c2-f859-c4cd34c89323"
      },
      "source": [
        "df['Type'].value_counts()"
      ],
      "execution_count": null,
      "outputs": [
        {
          "output_type": "execute_result",
          "data": {
            "text/plain": [
              "সামঞ্জস্যপূর্ণ    928\n",
              "অতিরঞ্জিত         871\n",
              "Name: Type, dtype: int64"
            ]
          },
          "metadata": {
            "tags": []
          },
          "execution_count": 6
        }
      ]
    },
    {
      "cell_type": "code",
      "metadata": {
        "colab": {
          "base_uri": "https://localhost:8080/"
        },
        "id": "0crY927n5nse",
        "outputId": "08177f1a-dfea-4a9c-a673-11ba7e9ebf33"
      },
      "source": [
        "df['Type'].unique()"
      ],
      "execution_count": null,
      "outputs": [
        {
          "output_type": "execute_result",
          "data": {
            "text/plain": [
              "array(['অতিরঞ্জিত', 'সামঞ্জস্যপূর্ণ'], dtype=object)"
            ]
          },
          "metadata": {
            "tags": []
          },
          "execution_count": 8
        }
      ]
    },
    {
      "cell_type": "code",
      "metadata": {
        "id": "BCfC_Ul15pdE"
      },
      "source": [
        "from sklearn.model_selection import train_test_split\n",
        "\n",
        "X = df['Title']  \n",
        "y = df['Type']\n",
        "\n",
        "X_train, X_test, y_train, y_test = train_test_split(X, y, test_size=0.20, random_state=42)"
      ],
      "execution_count": null,
      "outputs": []
    },
    {
      "cell_type": "code",
      "metadata": {
        "colab": {
          "base_uri": "https://localhost:8080/"
        },
        "id": "99Nn3Qhe5yLR",
        "outputId": "35484d04-7ecd-4c4e-e544-dc92b6aae30f"
      },
      "source": [
        "from sklearn.feature_extraction.text import CountVectorizer\n",
        "count_vect = CountVectorizer()\n",
        "\n",
        "X_train_counts = count_vect.fit_transform(X_train)\n",
        "X_train_counts.shape"
      ],
      "execution_count": null,
      "outputs": [
        {
          "output_type": "execute_result",
          "data": {
            "text/plain": [
              "(1439, 887)"
            ]
          },
          "metadata": {
            "tags": []
          },
          "execution_count": 10
        }
      ]
    },
    {
      "cell_type": "code",
      "metadata": {
        "colab": {
          "base_uri": "https://localhost:8080/"
        },
        "id": "OwIL0RNS50MZ",
        "outputId": "35b70ddb-8882-4a42-cdc1-087c90b7e28f"
      },
      "source": [
        "from sklearn.feature_extraction.text import TfidfTransformer\n",
        "tfidf_transformer = TfidfTransformer()\n",
        "\n",
        "X_train_tfidf = tfidf_transformer.fit_transform(X_train_counts)\n",
        "X_train_tfidf.shape"
      ],
      "execution_count": null,
      "outputs": [
        {
          "output_type": "execute_result",
          "data": {
            "text/plain": [
              "(1439, 887)"
            ]
          },
          "metadata": {
            "tags": []
          },
          "execution_count": 11
        }
      ]
    },
    {
      "cell_type": "code",
      "metadata": {
        "colab": {
          "base_uri": "https://localhost:8080/"
        },
        "id": "lzMAPDMO53Nz",
        "outputId": "15d26011-6d19-453d-ab02-80fce4e82c5b"
      },
      "source": [
        "from sklearn.feature_extraction.text import TfidfVectorizer\n",
        "vectorizer = TfidfVectorizer()\n",
        "\n",
        "X_train_tfidf = vectorizer.fit_transform(X_train) \n",
        "X_train_tfidf.shape"
      ],
      "execution_count": null,
      "outputs": [
        {
          "output_type": "execute_result",
          "data": {
            "text/plain": [
              "(1439, 887)"
            ]
          },
          "metadata": {
            "tags": []
          },
          "execution_count": 12
        }
      ]
    },
    {
      "cell_type": "code",
      "metadata": {
        "id": "wi7WlXLL580N",
        "colab": {
          "base_uri": "https://localhost:8080/"
        },
        "outputId": "50112c9d-bb69-433c-82ae-067498efb011"
      },
      "source": [
        " y_test.shape, X_test.shape,X_train.shape,y_train.shape"
      ],
      "execution_count": null,
      "outputs": [
        {
          "output_type": "execute_result",
          "data": {
            "text/plain": [
              "((360,), (360,), (1439,), (1439,))"
            ]
          },
          "metadata": {
            "tags": []
          },
          "execution_count": 13
        }
      ]
    },
    {
      "cell_type": "markdown",
      "metadata": {
        "id": "6IOkCsIC6ptJ"
      },
      "source": [
        "**linearsvc**"
      ]
    },
    {
      "cell_type": "code",
      "metadata": {
        "id": "f-jTv91-6BBs",
        "colab": {
          "base_uri": "https://localhost:8080/"
        },
        "outputId": "604146a1-5271-432b-e5bb-87612582e82f"
      },
      "source": [
        "\n",
        "from sklearn.svm import LinearSVC\n",
        "clf = LinearSVC()\n",
        "clf.fit(X_train_tfidf,y_train)"
      ],
      "execution_count": null,
      "outputs": [
        {
          "output_type": "execute_result",
          "data": {
            "text/plain": [
              "LinearSVC(C=1.0, class_weight=None, dual=True, fit_intercept=True,\n",
              "          intercept_scaling=1, loss='squared_hinge', max_iter=1000,\n",
              "          multi_class='ovr', penalty='l2', random_state=None, tol=0.0001,\n",
              "          verbose=0)"
            ]
          },
          "metadata": {
            "tags": []
          },
          "execution_count": 14
        }
      ]
    },
    {
      "cell_type": "code",
      "metadata": {
        "colab": {
          "base_uri": "https://localhost:8080/"
        },
        "id": "lMvEUlq46n3s",
        "outputId": "5ff5fbbb-3aad-442e-bee9-7f60ef16a533"
      },
      "source": [
        "from sklearn.pipeline import Pipeline\n",
        "text_clf = Pipeline([('tfidf', TfidfVectorizer()),\n",
        "                     ('clf', LinearSVC()),\n",
        "])\n",
        "text_clf.fit(X_train, y_train) "
      ],
      "execution_count": null,
      "outputs": [
        {
          "output_type": "execute_result",
          "data": {
            "text/plain": [
              "Pipeline(memory=None,\n",
              "         steps=[('tfidf',\n",
              "                 TfidfVectorizer(analyzer='word', binary=False,\n",
              "                                 decode_error='strict',\n",
              "                                 dtype=<class 'numpy.float64'>,\n",
              "                                 encoding='utf-8', input='content',\n",
              "                                 lowercase=True, max_df=1.0, max_features=None,\n",
              "                                 min_df=1, ngram_range=(1, 1), norm='l2',\n",
              "                                 preprocessor=None, smooth_idf=True,\n",
              "                                 stop_words=None, strip_accents=None,\n",
              "                                 sublinear_tf=False,\n",
              "                                 token_pattern='(?u)\\\\b\\\\w\\\\w+\\\\b',\n",
              "                                 tokenizer=None, use_idf=True,\n",
              "                                 vocabulary=None)),\n",
              "                ('clf',\n",
              "                 LinearSVC(C=1.0, class_weight=None, dual=True,\n",
              "                           fit_intercept=True, intercept_scaling=1,\n",
              "                           loss='squared_hinge', max_iter=1000,\n",
              "                           multi_class='ovr', penalty='l2', random_state=None,\n",
              "                           tol=0.0001, verbose=0))],\n",
              "         verbose=False)"
            ]
          },
          "metadata": {
            "tags": []
          },
          "execution_count": 15
        }
      ]
    },
    {
      "cell_type": "code",
      "metadata": {
        "colab": {
          "base_uri": "https://localhost:8080/",
          "height": 578
        },
        "id": "SgMKom1U6zHG",
        "outputId": "160de632-f780-4395-8c30-be764e7aac46"
      },
      "source": [
        "predictions = text_clf.predict(X_test)\n",
        "from sklearn import metrics\n",
        "cf_matrix=metrics.confusion_matrix(y_test,predictions)\n",
        "print(cf_matrix)\n",
        "plt.figure(figsize=(10,6))  \n",
        "sns.heatmap(cf_matrix, annot=True )\n",
        "print(metrics.classification_report(y_test,predictions))\n",
        "print(metrics.accuracy_score(y_test,predictions))"
      ],
      "execution_count": null,
      "outputs": [
        {
          "output_type": "stream",
          "text": [
            "[[121  46]\n",
            " [ 45 148]]\n",
            "                precision    recall  f1-score   support\n",
            "\n",
            "     অতিরঞ্জিত       0.73      0.72      0.73       167\n",
            "সামঞ্জস্যপূর্ণ       0.76      0.77      0.76       193\n",
            "\n",
            "      accuracy                           0.75       360\n",
            "     macro avg       0.75      0.75      0.75       360\n",
            "  weighted avg       0.75      0.75      0.75       360\n",
            "\n",
            "0.7472222222222222\n"
          ],
          "name": "stdout"
        },
        {
          "output_type": "display_data",
          "data": {
            "image/png": "[encoded data removed]",
            "text/plain": [
              "<Figure size 720x432 with 2 Axes>"
            ]
          },
          "metadata": {
            "tags": [],
            "needs_background": "light"
          }
        }
      ]
    },
    {
      "cell_type": "markdown",
      "metadata": {
        "id": "3L4vgsKI66Sb"
      },
      "source": [
        "**KNN**"
      ]
    },
    {
      "cell_type": "code",
      "metadata": {
        "colab": {
          "base_uri": "https://localhost:8080/"
        },
        "id": "JbjH6guS64_p",
        "outputId": "a47cc624-8deb-4907-faac-d2f19b0b8ad1"
      },
      "source": [
        "from sklearn.neighbors import KNeighborsClassifier\n",
        "clf = KNeighborsClassifier()\n",
        "clf.fit(X_train_tfidf,y_train)"
      ],
      "execution_count": null,
      "outputs": [
        {
          "output_type": "execute_result",
          "data": {
            "text/plain": [
              "KNeighborsClassifier(algorithm='auto', leaf_size=30, metric='minkowski',\n",
              "                     metric_params=None, n_jobs=None, n_neighbors=5, p=2,\n",
              "                     weights='uniform')"
            ]
          },
          "metadata": {
            "tags": []
          },
          "execution_count": 17
        }
      ]
    },
    {
      "cell_type": "code",
      "metadata": {
        "colab": {
          "base_uri": "https://localhost:8080/"
        },
        "id": "uEQKY0_S6_eM",
        "outputId": "d3b782e1-a794-460a-aaea-412e295bae74"
      },
      "source": [
        "from sklearn.pipeline import Pipeline\n",
        "\n",
        "text_clf = Pipeline([('tfidf', TfidfVectorizer()),\n",
        "                     ('clf', KNeighborsClassifier()),\n",
        "])\n",
        "text_clf.fit(X_train, y_train) "
      ],
      "execution_count": null,
      "outputs": [
        {
          "output_type": "execute_result",
          "data": {
            "text/plain": [
              "Pipeline(memory=None,\n",
              "         steps=[('tfidf',\n",
              "                 TfidfVectorizer(analyzer='word', binary=False,\n",
              "                                 decode_error='strict',\n",
              "                                 dtype=<class 'numpy.float64'>,\n",
              "                                 encoding='utf-8', input='content',\n",
              "                                 lowercase=True, max_df=1.0, max_features=None,\n",
              "                                 min_df=1, ngram_range=(1, 1), norm='l2',\n",
              "                                 preprocessor=None, smooth_idf=True,\n",
              "                                 stop_words=None, strip_accents=None,\n",
              "                                 sublinear_tf=False,\n",
              "                                 token_pattern='(?u)\\\\b\\\\w\\\\w+\\\\b',\n",
              "                                 tokenizer=None, use_idf=True,\n",
              "                                 vocabulary=None)),\n",
              "                ('clf',\n",
              "                 KNeighborsClassifier(algorithm='auto', leaf_size=30,\n",
              "                                      metric='minkowski', metric_params=None,\n",
              "                                      n_jobs=None, n_neighbors=5, p=2,\n",
              "                                      weights='uniform'))],\n",
              "         verbose=False)"
            ]
          },
          "metadata": {
            "tags": []
          },
          "execution_count": 18
        }
      ]
    },
    {
      "cell_type": "code",
      "metadata": {
        "colab": {
          "base_uri": "https://localhost:8080/",
          "height": 578
        },
        "id": "S8wxmWSk7BIE",
        "outputId": "8e6b2043-5c5d-43c6-ba24-97e8857f1340"
      },
      "source": [
        "predictions = text_clf.predict(X_test)\n",
        "from sklearn import metrics\n",
        "cf_matrix=metrics.confusion_matrix(y_test,predictions)\n",
        "print(cf_matrix)\n",
        "plt.figure(figsize=(10,6))  \n",
        "sns.heatmap(cf_matrix, annot=True )\n",
        "print(metrics.classification_report(y_test,predictions))\n",
        "print(metrics.accuracy_score(y_test,predictions))"
      ],
      "execution_count": null,
      "outputs": [
        {
          "output_type": "stream",
          "text": [
            "[[ 34 133]\n",
            " [ 10 183]]\n",
            "                precision    recall  f1-score   support\n",
            "\n",
            "     অতিরঞ্জিত       0.77      0.20      0.32       167\n",
            "সামঞ্জস্যপূর্ণ       0.58      0.95      0.72       193\n",
            "\n",
            "      accuracy                           0.60       360\n",
            "     macro avg       0.68      0.58      0.52       360\n",
            "  weighted avg       0.67      0.60      0.53       360\n",
            "\n",
            "0.6027777777777777\n"
          ],
          "name": "stdout"
        },
        {
          "output_type": "display_data",
          "data": {
            "image/png": "[encoded data removed]",
            "text/plain": [
              "<Figure size 720x432 with 2 Axes>"
            ]
          },
          "metadata": {
            "tags": [],
            "needs_background": "light"
          }
        }
      ]
    },
    {
      "cell_type": "markdown",
      "metadata": {
        "id": "jTQ35cg07HDp"
      },
      "source": [
        "**SVC**"
      ]
    },
    {
      "cell_type": "code",
      "metadata": {
        "colab": {
          "base_uri": "https://localhost:8080/"
        },
        "id": "YDxhr__47FYl",
        "outputId": "cdb9c755-5e11-4cf5-bff9-e418d9b03302"
      },
      "source": [
        "from sklearn.svm import SVC\n",
        "clf = SVC()\n",
        "clf.fit(X_train_tfidf,y_train)"
      ],
      "execution_count": null,
      "outputs": [
        {
          "output_type": "execute_result",
          "data": {
            "text/plain": [
              "SVC(C=1.0, break_ties=False, cache_size=200, class_weight=None, coef0=0.0,\n",
              "    decision_function_shape='ovr', degree=3, gamma='scale', kernel='rbf',\n",
              "    max_iter=-1, probability=False, random_state=None, shrinking=True,\n",
              "    tol=0.001, verbose=False)"
            ]
          },
          "metadata": {
            "tags": []
          },
          "execution_count": 20
        }
      ]
    },
    {
      "cell_type": "code",
      "metadata": {
        "colab": {
          "base_uri": "https://localhost:8080/"
        },
        "id": "CNzV_euX7Jwi",
        "outputId": "523ddadd-c5c7-4da9-8d5a-e2ac23396126"
      },
      "source": [
        "from sklearn.pipeline import Pipeline\n",
        "\n",
        "text_clf = Pipeline([('tfidf', TfidfVectorizer()),\n",
        "                     ('clf', SVC()),\n",
        "])\n",
        "text_clf.fit(X_train, y_train)"
      ],
      "execution_count": null,
      "outputs": [
        {
          "output_type": "execute_result",
          "data": {
            "text/plain": [
              "Pipeline(memory=None,\n",
              "         steps=[('tfidf',\n",
              "                 TfidfVectorizer(analyzer='word', binary=False,\n",
              "                                 decode_error='strict',\n",
              "                                 dtype=<class 'numpy.float64'>,\n",
              "                                 encoding='utf-8', input='content',\n",
              "                                 lowercase=True, max_df=1.0, max_features=None,\n",
              "                                 min_df=1, ngram_range=(1, 1), norm='l2',\n",
              "                                 preprocessor=None, smooth_idf=True,\n",
              "                                 stop_words=None, strip_accents=None,\n",
              "                                 sublinear_tf=False,\n",
              "                                 token_pattern='(?u)\\\\b\\\\w\\\\w+\\\\b',\n",
              "                                 tokenizer=None, use_idf=True,\n",
              "                                 vocabulary=None)),\n",
              "                ('clf',\n",
              "                 SVC(C=1.0, break_ties=False, cache_size=200, class_weight=None,\n",
              "                     coef0=0.0, decision_function_shape='ovr', degree=3,\n",
              "                     gamma='scale', kernel='rbf', max_iter=-1,\n",
              "                     probability=False, random_state=None, shrinking=True,\n",
              "                     tol=0.001, verbose=False))],\n",
              "         verbose=False)"
            ]
          },
          "metadata": {
            "tags": []
          },
          "execution_count": 21
        }
      ]
    },
    {
      "cell_type": "code",
      "metadata": {
        "colab": {
          "base_uri": "https://localhost:8080/",
          "height": 578
        },
        "id": "sU6cD2Ho7LZi",
        "outputId": "e4741b68-019d-4597-f269-d27d0550deab"
      },
      "source": [
        "predictions = text_clf.predict(X_test)\n",
        "from sklearn import metrics\n",
        "cf_matrix=metrics.confusion_matrix(y_test,predictions)\n",
        "print(cf_matrix)\n",
        "plt.figure(figsize=(10,6))  \n",
        "sns.heatmap(cf_matrix, annot=True )\n",
        "print(metrics.classification_report(y_test,predictions))\n",
        "print(metrics.accuracy_score(y_test,predictions))"
      ],
      "execution_count": null,
      "outputs": [
        {
          "output_type": "stream",
          "text": [
            "[[126  41]\n",
            " [ 30 163]]\n",
            "                precision    recall  f1-score   support\n",
            "\n",
            "     অতিরঞ্জিত       0.81      0.75      0.78       167\n",
            "সামঞ্জস্যপূর্ণ       0.80      0.84      0.82       193\n",
            "\n",
            "      accuracy                           0.80       360\n",
            "     macro avg       0.80      0.80      0.80       360\n",
            "  weighted avg       0.80      0.80      0.80       360\n",
            "\n",
            "0.8027777777777778\n"
          ],
          "name": "stdout"
        },
        {
          "output_type": "display_data",
          "data": {
            "image/png": "[encoded data removed]",
            "text/plain": [
              "<Figure size 720x432 with 2 Axes>"
            ]
          },
          "metadata": {
            "tags": [],
            "needs_background": "light"
          }
        }
      ]
    },
    {
      "cell_type": "markdown",
      "metadata": {
        "id": "Yp05Qjwl7TbC"
      },
      "source": [
        "**Logisticreg**"
      ]
    },
    {
      "cell_type": "code",
      "metadata": {
        "colab": {
          "base_uri": "https://localhost:8080/"
        },
        "id": "fn_TeqHW7PRV",
        "outputId": "c2d0c712-c3a0-4a1d-86a4-4aa42a99b31e"
      },
      "source": [
        "from sklearn.linear_model import LogisticRegression\n",
        "clf = LogisticRegression()\n",
        "clf.fit(X_train_tfidf,y_train)"
      ],
      "execution_count": null,
      "outputs": [
        {
          "output_type": "execute_result",
          "data": {
            "text/plain": [
              "LogisticRegression(C=1.0, class_weight=None, dual=False, fit_intercept=True,\n",
              "                   intercept_scaling=1, l1_ratio=None, max_iter=100,\n",
              "                   multi_class='auto', n_jobs=None, penalty='l2',\n",
              "                   random_state=None, solver='lbfgs', tol=0.0001, verbose=0,\n",
              "                   warm_start=False)"
            ]
          },
          "metadata": {
            "tags": []
          },
          "execution_count": 23
        }
      ]
    },
    {
      "cell_type": "code",
      "metadata": {
        "colab": {
          "base_uri": "https://localhost:8080/"
        },
        "id": "zKJPzVcy7WwU",
        "outputId": "1a59c974-863b-4964-db07-c20edaa3848e"
      },
      "source": [
        "from sklearn.pipeline import Pipeline\n",
        "\n",
        "text_clf = Pipeline([('tfidf', TfidfVectorizer()),\n",
        "                     ('clf', LogisticRegression()),\n",
        "])\n",
        "text_clf.fit(X_train, y_train)"
      ],
      "execution_count": null,
      "outputs": [
        {
          "output_type": "execute_result",
          "data": {
            "text/plain": [
              "Pipeline(memory=None,\n",
              "         steps=[('tfidf',\n",
              "                 TfidfVectorizer(analyzer='word', binary=False,\n",
              "                                 decode_error='strict',\n",
              "                                 dtype=<class 'numpy.float64'>,\n",
              "                                 encoding='utf-8', input='content',\n",
              "                                 lowercase=True, max_df=1.0, max_features=None,\n",
              "                                 min_df=1, ngram_range=(1, 1), norm='l2',\n",
              "                                 preprocessor=None, smooth_idf=True,\n",
              "                                 stop_words=None, strip_accents=None,\n",
              "                                 sublinear_tf=False,\n",
              "                                 token_pattern='(?u)\\\\b\\\\w\\\\w+\\\\b',\n",
              "                                 tokenizer=None, use_idf=True,\n",
              "                                 vocabulary=None)),\n",
              "                ('clf',\n",
              "                 LogisticRegression(C=1.0, class_weight=None, dual=False,\n",
              "                                    fit_intercept=True, intercept_scaling=1,\n",
              "                                    l1_ratio=None, max_iter=100,\n",
              "                                    multi_class='auto', n_jobs=None,\n",
              "                                    penalty='l2', random_state=None,\n",
              "                                    solver='lbfgs', tol=0.0001, verbose=0,\n",
              "                                    warm_start=False))],\n",
              "         verbose=False)"
            ]
          },
          "metadata": {
            "tags": []
          },
          "execution_count": 24
        }
      ]
    },
    {
      "cell_type": "code",
      "metadata": {
        "colab": {
          "base_uri": "https://localhost:8080/",
          "height": 578
        },
        "id": "tPf9s91C7YUY",
        "outputId": "e118e490-b825-4948-b99e-346646685a77"
      },
      "source": [
        "predictions = text_clf.predict(X_test)\n",
        "from sklearn import metrics\n",
        "cf_matrix=metrics.confusion_matrix(y_test,predictions)\n",
        "print(cf_matrix)\n",
        "plt.figure(figsize=(10,6))  \n",
        "sns.heatmap(cf_matrix, annot=True )\n",
        "print(metrics.classification_report(y_test,predictions))\n",
        "print(metrics.accuracy_score(y_test,predictions))"
      ],
      "execution_count": null,
      "outputs": [
        {
          "output_type": "stream",
          "text": [
            "[[128  39]\n",
            " [ 39 154]]\n",
            "                precision    recall  f1-score   support\n",
            "\n",
            "     অতিরঞ্জিত       0.77      0.77      0.77       167\n",
            "সামঞ্জস্যপূর্ণ       0.80      0.80      0.80       193\n",
            "\n",
            "      accuracy                           0.78       360\n",
            "     macro avg       0.78      0.78      0.78       360\n",
            "  weighted avg       0.78      0.78      0.78       360\n",
            "\n",
            "0.7833333333333333\n"
          ],
          "name": "stdout"
        },
        {
          "output_type": "display_data",
          "data": {
            "image/png": "[encoded data removed]",
            "text/plain": [
              "<Figure size 720x432 with 2 Axes>"
            ]
          },
          "metadata": {
            "tags": [],
            "needs_background": "light"
          }
        }
      ]
    },
    {
      "cell_type": "markdown",
      "metadata": {
        "id": "Gjzg2aRp7g3M"
      },
      "source": [
        "**Random** **forest**"
      ]
    },
    {
      "cell_type": "code",
      "metadata": {
        "colab": {
          "base_uri": "https://localhost:8080/"
        },
        "id": "HMRdRUAj7abQ",
        "outputId": "38657ef9-8f7a-4f7e-ef9a-a20b3bb16044"
      },
      "source": [
        "from sklearn.ensemble import RandomForestClassifier\n",
        "clf = RandomForestClassifier()\n",
        "clf.fit(X_train_tfidf,y_train)"
      ],
      "execution_count": null,
      "outputs": [
        {
          "output_type": "execute_result",
          "data": {
            "text/plain": [
              "RandomForestClassifier(bootstrap=True, ccp_alpha=0.0, class_weight=None,\n",
              "                       criterion='gini', max_depth=None, max_features='auto',\n",
              "                       max_leaf_nodes=None, max_samples=None,\n",
              "                       min_impurity_decrease=0.0, min_impurity_split=None,\n",
              "                       min_samples_leaf=1, min_samples_split=2,\n",
              "                       min_weight_fraction_leaf=0.0, n_estimators=100,\n",
              "                       n_jobs=None, oob_score=False, random_state=None,\n",
              "                       verbose=0, warm_start=False)"
            ]
          },
          "metadata": {
            "tags": []
          },
          "execution_count": 27
        }
      ]
    },
    {
      "cell_type": "code",
      "metadata": {
        "colab": {
          "base_uri": "https://localhost:8080/"
        },
        "id": "1apx099-7lt_",
        "outputId": "bcb394cb-8387-4098-92a5-de67740fccec"
      },
      "source": [
        "from sklearn.pipeline import Pipeline\n",
        "\n",
        "text_clf = Pipeline([('tfidf', TfidfVectorizer()),\n",
        "                     ('clf',RandomForestClassifier()),\n",
        "])\n",
        "text_clf.fit(X_train, y_train)"
      ],
      "execution_count": null,
      "outputs": [
        {
          "output_type": "execute_result",
          "data": {
            "text/plain": [
              "Pipeline(memory=None,\n",
              "         steps=[('tfidf',\n",
              "                 TfidfVectorizer(analyzer='word', binary=False,\n",
              "                                 decode_error='strict',\n",
              "                                 dtype=<class 'numpy.float64'>,\n",
              "                                 encoding='utf-8', input='content',\n",
              "                                 lowercase=True, max_df=1.0, max_features=None,\n",
              "                                 min_df=1, ngram_range=(1, 1), norm='l2',\n",
              "                                 preprocessor=None, smooth_idf=True,\n",
              "                                 stop_words=None, strip_accents=None,\n",
              "                                 sublinear_tf=False,\n",
              "                                 token_pattern='...\n",
              "                 RandomForestClassifier(bootstrap=True, ccp_alpha=0.0,\n",
              "                                        class_weight=None, criterion='gini',\n",
              "                                        max_depth=None, max_features='auto',\n",
              "                                        max_leaf_nodes=None, max_samples=None,\n",
              "                                        min_impurity_decrease=0.0,\n",
              "                                        min_impurity_split=None,\n",
              "                                        min_samples_leaf=1, min_samples_split=2,\n",
              "                                        min_weight_fraction_leaf=0.0,\n",
              "                                        n_estimators=100, n_jobs=None,\n",
              "                                        oob_score=False, random_state=None,\n",
              "                                        verbose=0, warm_start=False))],\n",
              "         verbose=False)"
            ]
          },
          "metadata": {
            "tags": []
          },
          "execution_count": 28
        }
      ]
    },
    {
      "cell_type": "code",
      "metadata": {
        "colab": {
          "base_uri": "https://localhost:8080/",
          "height": 578
        },
        "id": "Y9DqtBvW7n53",
        "outputId": "151547d8-0bee-4052-e854-cf016c51fa6f"
      },
      "source": [
        "predictions = text_clf.predict(X_test)\n",
        "from sklearn import metrics\n",
        "cf_matrix=metrics.confusion_matrix(y_test,predictions)\n",
        "print(cf_matrix)\n",
        "plt.figure(figsize=(10,6))  \n",
        "sns.heatmap(cf_matrix, annot=True )\n",
        "print(metrics.classification_report(y_test,predictions))\n",
        "print(metrics.accuracy_score(y_test,predictions))"
      ],
      "execution_count": null,
      "outputs": [
        {
          "output_type": "stream",
          "text": [
            "[[132  35]\n",
            " [ 49 144]]\n",
            "                precision    recall  f1-score   support\n",
            "\n",
            "     অতিরঞ্জিত       0.73      0.79      0.76       167\n",
            "সামঞ্জস্যপূর্ণ       0.80      0.75      0.77       193\n",
            "\n",
            "      accuracy                           0.77       360\n",
            "     macro avg       0.77      0.77      0.77       360\n",
            "  weighted avg       0.77      0.77      0.77       360\n",
            "\n",
            "0.7666666666666667\n"
          ],
          "name": "stdout"
        },
        {
          "output_type": "display_data",
          "data": {
            "image/png": "[encoded data removed]",
            "text/plain": [
              "<Figure size 720x432 with 2 Axes>"
            ]
          },
          "metadata": {
            "tags": [],
            "needs_background": "light"
          }
        }
      ]
    },
    {
      "cell_type": "markdown",
      "metadata": {
        "id": "swvibsnJ7xFg"
      },
      "source": [
        "**decison** **tree**"
      ]
    },
    {
      "cell_type": "code",
      "metadata": {
        "colab": {
          "base_uri": "https://localhost:8080/"
        },
        "id": "iunbMpBl7ri7",
        "outputId": "cad97836-e202-404d-cf7e-716be0767c6c"
      },
      "source": [
        "from sklearn.tree import DecisionTreeClassifier\n",
        "clf = DecisionTreeClassifier()\n",
        "clf.fit(X_train_tfidf,y_train)"
      ],
      "execution_count": null,
      "outputs": [
        {
          "output_type": "execute_result",
          "data": {
            "text/plain": [
              "DecisionTreeClassifier(ccp_alpha=0.0, class_weight=None, criterion='gini',\n",
              "                       max_depth=None, max_features=None, max_leaf_nodes=None,\n",
              "                       min_impurity_decrease=0.0, min_impurity_split=None,\n",
              "                       min_samples_leaf=1, min_samples_split=2,\n",
              "                       min_weight_fraction_leaf=0.0, presort='deprecated',\n",
              "                       random_state=None, splitter='best')"
            ]
          },
          "metadata": {
            "tags": []
          },
          "execution_count": 30
        }
      ]
    },
    {
      "cell_type": "code",
      "metadata": {
        "colab": {
          "base_uri": "https://localhost:8080/"
        },
        "id": "OjHpfUPn70hd",
        "outputId": "70e35354-aaba-469a-a4f7-ba8c0afae6c8"
      },
      "source": [
        "from sklearn.pipeline import Pipeline\n",
        "\n",
        "text_clf = Pipeline([('tfidf', TfidfVectorizer()),\n",
        "                     ('clf',DecisionTreeClassifier()),\n",
        "])\n",
        "text_clf.fit(X_train, y_train)"
      ],
      "execution_count": null,
      "outputs": [
        {
          "output_type": "execute_result",
          "data": {
            "text/plain": [
              "Pipeline(memory=None,\n",
              "         steps=[('tfidf',\n",
              "                 TfidfVectorizer(analyzer='word', binary=False,\n",
              "                                 decode_error='strict',\n",
              "                                 dtype=<class 'numpy.float64'>,\n",
              "                                 encoding='utf-8', input='content',\n",
              "                                 lowercase=True, max_df=1.0, max_features=None,\n",
              "                                 min_df=1, ngram_range=(1, 1), norm='l2',\n",
              "                                 preprocessor=None, smooth_idf=True,\n",
              "                                 stop_words=None, strip_accents=None,\n",
              "                                 sublinear_tf=False,\n",
              "                                 token_pattern='...\n",
              "                                 tokenizer=None, use_idf=True,\n",
              "                                 vocabulary=None)),\n",
              "                ('clf',\n",
              "                 DecisionTreeClassifier(ccp_alpha=0.0, class_weight=None,\n",
              "                                        criterion='gini', max_depth=None,\n",
              "                                        max_features=None, max_leaf_nodes=None,\n",
              "                                        min_impurity_decrease=0.0,\n",
              "                                        min_impurity_split=None,\n",
              "                                        min_samples_leaf=1, min_samples_split=2,\n",
              "                                        min_weight_fraction_leaf=0.0,\n",
              "                                        presort='deprecated', random_state=None,\n",
              "                                        splitter='best'))],\n",
              "         verbose=False)"
            ]
          },
          "metadata": {
            "tags": []
          },
          "execution_count": 31
        }
      ]
    },
    {
      "cell_type": "code",
      "metadata": {
        "colab": {
          "base_uri": "https://localhost:8080/",
          "height": 578
        },
        "id": "bTtR0_fP72IE",
        "outputId": "460552b9-9809-4289-f1fc-0a7cb5b9e43f"
      },
      "source": [
        "predictions = text_clf.predict(X_test)\n",
        "from sklearn import metrics\n",
        "cf_matrix=metrics.confusion_matrix(y_test,predictions)\n",
        "print(cf_matrix)\n",
        "plt.figure(figsize=(10,6))  \n",
        "sns.heatmap(cf_matrix, annot=True )\n",
        "print(metrics.classification_report(y_test,predictions))\n",
        "print(metrics.accuracy_score(y_test,predictions))"
      ],
      "execution_count": null,
      "outputs": [
        {
          "output_type": "stream",
          "text": [
            "[[134  33]\n",
            " [ 63 130]]\n",
            "                precision    recall  f1-score   support\n",
            "\n",
            "     অতিরঞ্জিত       0.68      0.80      0.74       167\n",
            "সামঞ্জস্যপূর্ণ       0.80      0.67      0.73       193\n",
            "\n",
            "      accuracy                           0.73       360\n",
            "     macro avg       0.74      0.74      0.73       360\n",
            "  weighted avg       0.74      0.73      0.73       360\n",
            "\n",
            "0.7333333333333333\n"
          ],
          "name": "stdout"
        },
        {
          "output_type": "display_data",
          "data": {
            "image/png": "[encoded data removed]",
            "text/plain": [
              "<Figure size 720x432 with 2 Axes>"
            ]
          },
          "metadata": {
            "tags": [],
            "needs_background": "light"
          }
        }
      ]
    },
    {
      "cell_type": "markdown",
      "metadata": {
        "id": "GB-T-qSK78SD"
      },
      "source": [
        "**sgd**"
      ]
    },
    {
      "cell_type": "code",
      "metadata": {
        "colab": {
          "base_uri": "https://localhost:8080/"
        },
        "id": "YxZXNC0l75oc",
        "outputId": "43ba7a40-9a68-4170-9833-33211d096dbd"
      },
      "source": [
        "from sklearn.linear_model import SGDClassifier\n",
        "clf = SGDClassifier()\n",
        "clf.fit(X_train_tfidf,y_train)\n"
      ],
      "execution_count": null,
      "outputs": [
        {
          "output_type": "execute_result",
          "data": {
            "text/plain": [
              "SGDClassifier(alpha=0.0001, average=False, class_weight=None,\n",
              "              early_stopping=False, epsilon=0.1, eta0=0.0, fit_intercept=True,\n",
              "              l1_ratio=0.15, learning_rate='optimal', loss='hinge',\n",
              "              max_iter=1000, n_iter_no_change=5, n_jobs=None, penalty='l2',\n",
              "              power_t=0.5, random_state=None, shuffle=True, tol=0.001,\n",
              "              validation_fraction=0.1, verbose=0, warm_start=False)"
            ]
          },
          "metadata": {
            "tags": []
          },
          "execution_count": 33
        }
      ]
    },
    {
      "cell_type": "code",
      "metadata": {
        "colab": {
          "base_uri": "https://localhost:8080/"
        },
        "id": "0yEmDaQs7_kO",
        "outputId": "a2b4bfa7-3665-4d7f-9b22-f7ee04e59893"
      },
      "source": [
        "from sklearn.pipeline import Pipeline\n",
        "\n",
        "text_clf = Pipeline([('tfidf', TfidfVectorizer()),\n",
        "                     ('clf',SGDClassifier()),\n",
        "])\n",
        "text_clf.fit(X_train, y_train)"
      ],
      "execution_count": null,
      "outputs": [
        {
          "output_type": "execute_result",
          "data": {
            "text/plain": [
              "Pipeline(memory=None,\n",
              "         steps=[('tfidf',\n",
              "                 TfidfVectorizer(analyzer='word', binary=False,\n",
              "                                 decode_error='strict',\n",
              "                                 dtype=<class 'numpy.float64'>,\n",
              "                                 encoding='utf-8', input='content',\n",
              "                                 lowercase=True, max_df=1.0, max_features=None,\n",
              "                                 min_df=1, ngram_range=(1, 1), norm='l2',\n",
              "                                 preprocessor=None, smooth_idf=True,\n",
              "                                 stop_words=None, strip_accents=None,\n",
              "                                 sublinear_tf=False,\n",
              "                                 token_pattern='...\n",
              "                 SGDClassifier(alpha=0.0001, average=False, class_weight=None,\n",
              "                               early_stopping=False, epsilon=0.1, eta0=0.0,\n",
              "                               fit_intercept=True, l1_ratio=0.15,\n",
              "                               learning_rate='optimal', loss='hinge',\n",
              "                               max_iter=1000, n_iter_no_change=5, n_jobs=None,\n",
              "                               penalty='l2', power_t=0.5, random_state=None,\n",
              "                               shuffle=True, tol=0.001, validation_fraction=0.1,\n",
              "                               verbose=0, warm_start=False))],\n",
              "         verbose=False)"
            ]
          },
          "metadata": {
            "tags": []
          },
          "execution_count": 34
        }
      ]
    },
    {
      "cell_type": "code",
      "metadata": {
        "colab": {
          "base_uri": "https://localhost:8080/",
          "height": 578
        },
        "id": "JQRwLFMO8BBJ",
        "outputId": "f7c76eed-1b32-42cc-c598-f0aba9e45c01"
      },
      "source": [
        "predictions = text_clf.predict(X_test)\n",
        "from sklearn import metrics\n",
        "cf_matrix=metrics.confusion_matrix(y_test,predictions)\n",
        "print(cf_matrix)\n",
        "plt.figure(figsize=(10,6))  \n",
        "sns.heatmap(cf_matrix, annot=True )\n",
        "print(metrics.classification_report(y_test,predictions))\n",
        "print(metrics.accuracy_score(y_test,predictions))"
      ],
      "execution_count": null,
      "outputs": [
        {
          "output_type": "stream",
          "text": [
            "[[121  46]\n",
            " [ 50 143]]\n",
            "                precision    recall  f1-score   support\n",
            "\n",
            "     অতিরঞ্জিত       0.71      0.72      0.72       167\n",
            "সামঞ্জস্যপূর্ণ       0.76      0.74      0.75       193\n",
            "\n",
            "      accuracy                           0.73       360\n",
            "     macro avg       0.73      0.73      0.73       360\n",
            "  weighted avg       0.73      0.73      0.73       360\n",
            "\n",
            "0.7333333333333333\n"
          ],
          "name": "stdout"
        },
        {
          "output_type": "display_data",
          "data": {
            "image/png": "[encoded data removed]",
            "text/plain": [
              "<Figure size 720x432 with 2 Axes>"
            ]
          },
          "metadata": {
            "tags": [],
            "needs_background": "light"
          }
        }
      ]
    },
    {
      "cell_type": "markdown",
      "metadata": {
        "id": "VcmE3IN58HC_"
      },
      "source": [
        "**naivebayes**"
      ]
    },
    {
      "cell_type": "code",
      "metadata": {
        "colab": {
          "base_uri": "https://localhost:8080/"
        },
        "id": "zg7i82lh8EIM",
        "outputId": "8a460a39-16e4-496e-be8c-e62bb5e8dcb0"
      },
      "source": [
        "from sklearn.naive_bayes import MultinomialNB\n",
        "clf = MultinomialNB()\n",
        "clf.fit(X_train_tfidf,y_train)"
      ],
      "execution_count": null,
      "outputs": [
        {
          "output_type": "execute_result",
          "data": {
            "text/plain": [
              "MultinomialNB(alpha=1.0, class_prior=None, fit_prior=True)"
            ]
          },
          "metadata": {
            "tags": []
          },
          "execution_count": 36
        }
      ]
    },
    {
      "cell_type": "code",
      "metadata": {
        "colab": {
          "base_uri": "https://localhost:8080/"
        },
        "id": "zZriNrAU8JHW",
        "outputId": "f9b1f17e-4fa7-442e-afcb-54f79cb518f2"
      },
      "source": [
        "from sklearn.pipeline import Pipeline\n",
        "\n",
        "text_clf = Pipeline([('tfidf', TfidfVectorizer()),\n",
        "                     ('clf',MultinomialNB()),\n",
        "])\n",
        "text_clf.fit(X_train, y_train)"
      ],
      "execution_count": null,
      "outputs": [
        {
          "output_type": "execute_result",
          "data": {
            "text/plain": [
              "Pipeline(memory=None,\n",
              "         steps=[('tfidf',\n",
              "                 TfidfVectorizer(analyzer='word', binary=False,\n",
              "                                 decode_error='strict',\n",
              "                                 dtype=<class 'numpy.float64'>,\n",
              "                                 encoding='utf-8', input='content',\n",
              "                                 lowercase=True, max_df=1.0, max_features=None,\n",
              "                                 min_df=1, ngram_range=(1, 1), norm='l2',\n",
              "                                 preprocessor=None, smooth_idf=True,\n",
              "                                 stop_words=None, strip_accents=None,\n",
              "                                 sublinear_tf=False,\n",
              "                                 token_pattern='(?u)\\\\b\\\\w\\\\w+\\\\b',\n",
              "                                 tokenizer=None, use_idf=True,\n",
              "                                 vocabulary=None)),\n",
              "                ('clf',\n",
              "                 MultinomialNB(alpha=1.0, class_prior=None, fit_prior=True))],\n",
              "         verbose=False)"
            ]
          },
          "metadata": {
            "tags": []
          },
          "execution_count": 37
        }
      ]
    },
    {
      "cell_type": "code",
      "metadata": {
        "colab": {
          "base_uri": "https://localhost:8080/",
          "height": 582
        },
        "id": "c-hICIof8KrM",
        "outputId": "a29d138a-cbb1-4863-a7d2-977375540e09"
      },
      "source": [
        "predictions = text_clf.predict(X_test)\n",
        "from sklearn import metrics\n",
        "cf_matrix=metrics.confusion_matrix(y_test,predictions)\n",
        "print(cf_matrix)\n",
        "plt.figure(figsize=(10,6))  \n",
        "sns.heatmap(cf_matrix, annot=True )\n",
        "print(metrics.classification_report(y_test,predictions))\n",
        "print(metrics.accuracy_score(y_test,predictions))"
      ],
      "execution_count": null,
      "outputs": [
        {
          "output_type": "stream",
          "text": [
            "[[132  35]\n",
            " [ 53 140]]\n",
            "                precision    recall  f1-score   support\n",
            "\n",
            "     অতিরঞ্জিত       0.71      0.79      0.75       167\n",
            "সামঞ্জস্যপূর্ণ       0.80      0.73      0.76       193\n",
            "\n",
            "      accuracy                           0.76       360\n",
            "     macro avg       0.76      0.76      0.76       360\n",
            "  weighted avg       0.76      0.76      0.76       360\n",
            "\n",
            "0.7555555555555555\n"
          ],
          "name": "stdout"
        },
        {
          "output_type": "display_data",
          "data": {
            "image/png": "[encoded data removed]",
            "text/plain": [
              "<Figure size 720x432 with 2 Axes>"
            ]
          },
          "metadata": {
            "tags": [],
            "needs_background": "light"
          }
        }
      ]
    }
  ]
}